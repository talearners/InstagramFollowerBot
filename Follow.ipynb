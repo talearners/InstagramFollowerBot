{
 "cells": [
  {
   "cell_type": "markdown",
   "metadata": {},
   "source": [
    "<!DOCTYPE html><html lang=\"en\"><head><style>h2{font-family:fangsong;margin:1%;font-size:25px;font-weight:1000}.box{display:flex;margin-left:15%}.heart{fill:red;position:relative;top:5px;width:50px;animation:pulse 1s ease infinite}@keyframes pulse{0%{transform:scale(1)}50%{transform:scale(1.2)}100%{transform:scale(1)}}</style></head><body><div class=\"box\"><h2>Happy Valentine's Day</h2><svg class=\"heart\" viewBox=\"0 0 32 29.6\"><path d=\"M23.6,0c-3.4,0-6.3,2.7-7.6,5.6C14.7,2.7,11.8,0,8.4,0C3.8,0,0,3.8,0,8.4c0,9.4,9.5,11.9,16,21.2c6.1-9.3,16-12.1,16-21.2C32,3.8,28.2,0,23.6,0z\"/></svg><h2>Form TA Learners</h2></div></body></html>"
   ]
  },
  {
   "cell_type": "code",
   "execution_count": null,
   "metadata": {},
   "outputs": [],
   "source": [
    "from selenium.webdriver import Chrome\n",
    "from selenium.webdriver.common.keys import Keys\n",
    "from selenium.webdriver.common.by import By\n",
    "from selenium.webdriver.support import expected_conditions as exp\n",
    "from selenium.webdriver.support.wait import (\n",
    "    WebDriverWait,\n",
    "    TimeoutException\n",
    ")\n",
    "from json import (load,dump)\n",
    "from os.path import exists\n",
    "from time import sleep"
   ]
  },
  {
   "cell_type": "code",
   "execution_count": null,
   "metadata": {},
   "outputs": [],
   "source": [
    "driver = Chrome(executable_path=\"./Driver/chromedriver.exe\")\n",
    "driver.get(\"https://instagram.com\")"
   ]
  },
  {
   "cell_type": "markdown",
   "metadata": {},
   "source": [
    "<h1 style='text-align:center;color:white;font-weight:bold;'>Load Cookies Form ig.json file</h1>"
   ]
  },
  {
   "cell_type": "code",
   "execution_count": null,
   "metadata": {},
   "outputs": [],
   "source": [
    "if exists(\"Cookies/ig.json\"):\n",
    "    with open(\"Cookies/ig.json\",'r') as file:\n",
    "        for i in load(file):\n",
    "            driver.add_cookie(i)\n",
    "        driver.refresh()"
   ]
  },
  {
   "cell_type": "markdown",
   "metadata": {},
   "source": [
    "<h1 style='text-align:center;color:white;font-weight:bold;'>Follow People By Profile Links</h1>"
   ]
  },
  {
   "cell_type": "code",
   "execution_count": null,
   "metadata": {},
   "outputs": [],
   "source": [
    "def follow_by_link(link):\n",
    "    driver.get(link)\n",
    "    sleep(3)\n",
    "    follow_btn = driver.find_element_by_xpath('//*[@id=\"react-root\"]/div/div/section/main/div/header/section/div[1]/div[1]/div/div/div/span/span[1]/button')\n",
    "    sleep(3)\n",
    "    follow_btn.click()\n",
    "    print(f\"[+] You Follow {link.split('.com/')[-1].replace('/','')}\")"
   ]
  },
  {
   "cell_type": "markdown",
   "metadata": {},
   "source": [
    "<h1 style='text-align:center;color:white;font-weight:bold;'>Get Follower Form User Profile</h1>"
   ]
  },
  {
   "cell_type": "code",
   "execution_count": null,
   "metadata": {},
   "outputs": [],
   "source": [
    "def get_follower_link():\n",
    "    links = []\n",
    "    follower_btn = driver.find_element_by_xpath('//*[@id=\"react-root\"]/div/div/section/main/div/header/section/ul/li[2]/a')\n",
    "    follower_btn.click()\n",
    "    sleep(2)\n",
    "    roots = driver.find_elements_by_xpath('/html/body/div[6]/div/div/div/div[2]/ul/div/li')\n",
    "    for root in roots:\n",
    "        link = root.find_element_by_tag_name('a')\n",
    "        link = link.get_attribute('href')\n",
    "        links.append(link)\n",
    "        \n",
    "    return links\n",
    "print('colleced....')"
   ]
  },
  {
   "cell_type": "markdown",
   "metadata": {},
   "source": [
    "<h1 style='text-align:center;color:white;font-weight:bold;'>frist open any profile then click run button</h1>"
   ]
  },
  {
   "cell_type": "code",
   "execution_count": null,
   "metadata": {},
   "outputs": [],
   "source": [
    "links = get_follower_link()"
   ]
  },
  {
   "cell_type": "markdown",
   "metadata": {},
   "source": [
    "<h1 style='text-align:center;color:white;font-weight:bold;'>Run and Follow User and Scrap Followers</h1>"
   ]
  },
  {
   "cell_type": "code",
   "execution_count": null,
   "metadata": {},
   "outputs": [],
   "source": [
    "\n",
    "for link in links:\n",
    "    try:\n",
    "        follow_by_link(link)\n",
    "        sleep(4)\n",
    "        with open('links.text','a') as file:\n",
    "            file.write('\\n'.join(get_follower_link()))\n",
    "    except:\n",
    "        pass\n"
   ]
  },
  {
   "cell_type": "markdown",
   "metadata": {},
   "source": [
    "<h1 style='text-align:center;color:white;font-weight:bold;'>Genrated Followers Profile Save on Link.txt File</h1>"
   ]
  },
  {
   "cell_type": "code",
   "execution_count": null,
   "metadata": {},
   "outputs": [],
   "source": [
    "with open(\"links.text\",'r') as files:\n",
    "    data = set(files.readlines())\n",
    "\n",
    "print(len(data))"
   ]
  },
  {
   "cell_type": "markdown",
   "metadata": {},
   "source": [
    "<h1 style='text-align:center;color:white;font-weight:bold;'>Follow People From Saved Links</h1>"
   ]
  },
  {
   "cell_type": "code",
   "execution_count": null,
   "metadata": {},
   "outputs": [],
   "source": [
    "for link in data:\n",
    "    try:\n",
    "        follow_by_link(link)\n",
    "        sleep(4)\n",
    "        with open('links.text','a') as file:\n",
    "            file.write('\\n'.join(get_follower_link()))\n",
    "    except:\n",
    "        pass"
   ]
  }
 ],
 "metadata": {
  "interpreter": {
   "hash": "580d47f0eb1c24b6f7b786682df74c79ad37a8c9ebfd5fc60dab213a19e338a0"
  },
  "kernelspec": {
   "display_name": "Python 3.10.2 ('instagrambot-D4vvNtXU')",
   "language": "python",
   "name": "python3"
  },
  "language_info": {
   "codemirror_mode": {
    "name": "ipython",
    "version": 3
   },
   "file_extension": ".py",
   "mimetype": "text/x-python",
   "name": "python",
   "nbconvert_exporter": "python",
   "pygments_lexer": "ipython3",
   "version": "3.10.2"
  },
  "orig_nbformat": 4
 },
 "nbformat": 4,
 "nbformat_minor": 2
}
